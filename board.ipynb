{
 "cells": [
  {
   "cell_type": "markdown",
   "metadata": {},
   "source": [
    "# AI Algorithm"
   ]
  },
  {
   "cell_type": "markdown",
   "metadata": {},
   "source": [
    "Real numbers are written on an m×n board. At each step, you are allowed to change the sign of every number of a row or of a column. Prove that by a sequence of such steps, you can always make all row sums and column sums non-negative."
   ]
  },
  {
   "cell_type": "code",
   "execution_count": 1,
   "metadata": {},
   "outputs": [],
   "source": [
    "import numpy as np"
   ]
  },
  {
   "cell_type": "markdown",
   "metadata": {},
   "source": [
    "## Random moves"
   ]
  },
  {
   "cell_type": "code",
   "execution_count": 2,
   "metadata": {},
   "outputs": [],
   "source": [
    "class HappyBoard():\n",
    "    def __init__(self, row_shape, col_shape) -> None:\n",
    "        self.row_shape = row_shape\n",
    "        self.col_shape = col_shape\n",
    "\n",
    "    def create_board(self, mu, sigma):\n",
    "        board = np.random.normal(loc=mu, scale=sigma, size=(self.row_shape, self.col_shape))\n",
    "        self.board = board\n",
    "        return board\n",
    "\n",
    "    def calculate_row_and_col_sums(self):\n",
    "        row = self.board.sum(axis=1)\n",
    "        col = self.board.sum(axis=0)\n",
    "        return row, col \n",
    "\n",
    "    def _change_sign_col(self, col_number):\n",
    "        self.board[:, col_number] = self.board[:, col_number]*(-1)\n",
    "        return self.board\n",
    "\n",
    "    def _change_sign_row(self, row_number):\n",
    "        self.board[row_number, :] = self.board[row_number, :]*(-1)\n",
    "        return self.board\n",
    "\n",
    "    def _define_stopping_rule(self):\n",
    "        row_sums, col_sums = self.calculate_row_and_col_sums()\n",
    "        stopping_rule = all(np.concatenate((row_sums, col_sums)) > 0)\n",
    "        return stopping_rule\n",
    "\n",
    "    def run_the_algorithm(self):\n",
    "\n",
    "        stopping_rule = self._define_stopping_rule()\n",
    "        counter = 0\n",
    "        while not stopping_rule:\n",
    "            change_row_or_col = np.random.randint(0, 2)\n",
    "            if change_row_or_col:\n",
    "                which_col = np.random.randint(0, self.col_shape)\n",
    "                self._change_sign_col(which_col)\n",
    "            else:\n",
    "                which_row = np.random.randint(0, self.row_shape)\n",
    "                self._change_sign_row(which_row)\n",
    "            \n",
    "            stopping_rule = self._define_stopping_rule()\n",
    "            counter += 1\n",
    "        return counter \n",
    "        "
   ]
  },
  {
   "cell_type": "code",
   "execution_count": 3,
   "metadata": {},
   "outputs": [
    {
     "name": "stdout",
     "output_type": "stream",
     "text": [
      "[[12.63812773 35.31972756 -2.36837988  0.66679536]\n",
      " [18.77268022 39.06526822  1.22122609 14.16903645]\n",
      " [-7.17364374 25.08860423 -8.39285289 -0.69490571]]\n"
     ]
    },
    {
     "data": {
      "text/plain": [
       "145"
      ]
     },
     "execution_count": 3,
     "metadata": {},
     "output_type": "execute_result"
    }
   ],
   "source": [
    "obj = HappyBoard(3, 4)\n",
    "obj.create_board(mu=5, sigma=20)\n",
    "print(obj.board)\n",
    "obj.calculate_row_and_col_sums()\n",
    "obj._define_stopping_rule()\n",
    "obj.run_the_algorithm()"
   ]
  },
  {
   "cell_type": "code",
   "execution_count": 125,
   "metadata": {},
   "outputs": [
    {
     "data": {
      "text/plain": [
       "(array([ 8.75870466, 47.87010483, 24.71983161,  8.11127891, 10.0901939 ]),\n",
       " array([69.8735989 , 16.33140281, 13.34511219]))"
      ]
     },
     "execution_count": 125,
     "metadata": {},
     "output_type": "execute_result"
    }
   ],
   "source": [
    "obj.calculate_row_and_col_sums()"
   ]
  },
  {
   "cell_type": "code",
   "execution_count": 4,
   "metadata": {},
   "outputs": [
    {
     "data": {
      "text/plain": [
       "array([[ 28.09813265,  -4.74640993,  -1.34330624],\n",
       "       [ 18.72095478,  36.99633914,  -1.34114729],\n",
       "       [-31.08053015,  -8.95375589,  45.62970705],\n",
       "       [ 12.56012457,   3.90053248,  13.48895316],\n",
       "       [ -3.89375276,  34.69941346, -12.12612002]])"
      ]
     },
     "execution_count": 4,
     "metadata": {},
     "output_type": "execute_result"
    }
   ],
   "source": [
    "obj.board"
   ]
  },
  {
   "cell_type": "markdown",
   "metadata": {},
   "source": [
    "### Food for thought\n",
    "1. Apply regular search algorithm\n",
    "2. Apply local search algorithm\n",
    "\n",
    "    a. define a heuristic and apply a hill-climbing algorithm (calculate the row/col sums and take the row/col which has the least value)\n",
    "    \n",
    "    b. simulated annealing algorithm (randomly take the col/row). If it is a \"negative\" row/col, then certainly change the sign. If no, change with some probability.\n",
    "    \n",
    "3. Create a two-player game\n",
    "4. Random move (done)\n",
    "5. Compare the number of steps needed for each of the algorithm to converge\n",
    "6. Do 1-5 for different shapes of the board\n",
    "7. Create a small app that demonstrates the results\n",
    "8. "
   ]
  },
  {
   "cell_type": "code",
   "execution_count": null,
   "metadata": {},
   "outputs": [],
   "source": []
  }
 ],
 "metadata": {
  "kernelspec": {
   "display_name": "Python 3.10.6 64-bit",
   "language": "python",
   "name": "python3"
  },
  "language_info": {
   "codemirror_mode": {
    "name": "ipython",
    "version": 3
   },
   "file_extension": ".py",
   "mimetype": "text/x-python",
   "name": "python",
   "nbconvert_exporter": "python",
   "pygments_lexer": "ipython3",
   "version": "3.10.6"
  },
  "orig_nbformat": 4,
  "vscode": {
   "interpreter": {
    "hash": "916dbcbb3f70747c44a77c7bcd40155683ae19c65e1c03b4aa3499c5328201f1"
   }
  }
 },
 "nbformat": 4,
 "nbformat_minor": 2
}
